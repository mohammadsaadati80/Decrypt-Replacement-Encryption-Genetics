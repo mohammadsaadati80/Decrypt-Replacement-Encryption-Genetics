{
 "cells": [
  {
   "cell_type": "markdown",
   "id": "115b680c",
   "metadata": {},
   "source": [
    "# AI Computer Assignment 2 (Genetic Algorithms)\n",
    "Mohammad Saadati - \n",
    "_810198410_"
   ]
  },
  {
   "cell_type": "markdown",
   "id": "22836130",
   "metadata": {},
   "source": [
    "## Introduction\n",
    "Goal of this project is to create genetic algorithm which will solve sudoku."
   ]
  },
  {
   "cell_type": "code",
   "execution_count": 18,
   "id": "6e5ce84d",
   "metadata": {},
   "outputs": [],
   "source": [
    "import numpy\n",
    "import random\n",
    "import re\n",
    "\n",
    "POPULATION_SIZE = 100  \n",
    "NUMBER_OF_GENERATIONS = 1500 \n",
    "MUTATION_PROBABILITY = 0.4\n",
    "CROSSOVER_PROBABILITY = 0.5\n",
    "ALPHABET = ['a', 'b', 'c', 'd', 'e', 'f', 'g', 'h', 'i', 'j', 'k', 'l', 'm', 'n', 'o', 'p',\n",
    "            'q', 'r', 's', 't', 'u', 'v', 'w', 'x', 'y', 'z']"
   ]
  },
  {
   "cell_type": "markdown",
   "id": "5f811d8e",
   "metadata": {},
   "source": [
    "## Phase 0:"
   ]
  },
  {
   "cell_type": "code",
   "execution_count": 43,
   "id": "d804daf0",
   "metadata": {},
   "outputs": [
    {
     "data": {
      "text/plain": [
       "122"
      ]
     },
     "execution_count": 43,
     "metadata": {},
     "output_type": "execute_result"
    }
   ],
   "source": [
    "class TextProcessor(object):\n",
    "    def __init__(self, _initial_text):\n",
    "        self.text = _initial_text\n",
    "    \n",
    "    def lower_text(self, text):\n",
    "        return (text).lower()\n",
    "    \n",
    "    def split_text(self, text):\n",
    "        return re.split('[^a-zA-Z]', text)\n",
    "    \n",
    "    def make_dict(self, words):\n",
    "        return set(words)\n",
    "    \n",
    "    def clean_text(self, text):\n",
    "        words = self.split_text(text)\n",
    "        return self.make_dict(words)"
   ]
  },
  {
   "cell_type": "markdown",
   "id": "2f7cc2b0",
   "metadata": {},
   "source": [
    "## Phase 1:\n",
    "**gene**: each row represents a gene.\n",
    "\n",
    "**chromosome**: a sequence of gates(genes) represent a chromosome."
   ]
  },
  {
   "cell_type": "code",
   "execution_count": 61,
   "id": "698860ac",
   "metadata": {},
   "outputs": [],
   "source": [
    "class Chromosome(object):\n",
    "    def __init__(self, _chromosome):\n",
    "        self.fitness = 0\n",
    "        self.chromosome = _chromosome\n",
    "    \n",
    "    def get_key(self, index):\n",
    "        return self.chromosome[index]\n",
    "    \n",
    "    def update_fitness(self, fitness):\n",
    "        self.fitness = fitness\n",
    "            \n",
    "    def mutation(self, mutation_rate, intial_input):\n",
    "        None\n",
    "        "
   ]
  },
  {
   "cell_type": "markdown",
   "id": "83c931fb",
   "metadata": {},
   "source": [
    "## Phase 2:\n",
    "Initialized population of size 200 randomly using the possible_values."
   ]
  },
  {
   "cell_type": "code",
   "execution_count": 65,
   "id": "321bfc7f",
   "metadata": {},
   "outputs": [
    {
     "name": "stdout",
     "output_type": "stream",
     "text": [
      "0.06994328922495274\n",
      "0.03969754253308128\n"
     ]
    }
   ],
   "source": [
    "class Decoder(object):\n",
    "    def __init__(self, global_text, encoded_text, key_lenght):\n",
    "        self.text_processor = TextProcessor(global_text)\n",
    "        self.global_text_dict = self.text_processor.clean_text(self.text_processor.lower_text(global_text))\n",
    "        self.encoded_text = encoded_text\n",
    "        self.encoded_text_word = self.text_processor.split_text(self.text_processor.lower_text(encoded_text))\n",
    "        self.key_lenght = key_lenght\n",
    "        \n",
    "        self.population = []\n",
    "        self.best_fitness = -1\n",
    "        self.best_chromosome = \"\"\n",
    "        \n",
    "    def initiate_population(self):\n",
    "        population = []\n",
    "        for i in range(POPULATION_SIZE):\n",
    "            key = random.sample(ALPHABET, self.key_lenght)\n",
    "            while key in population:\n",
    "                random.shuffle(key)\n",
    "            self.population.append(Chromosome(key[:]))\n",
    "            \n",
    "    def get_fitness(self, chromosome: Chromosome):\n",
    "        return chromosome.fitness\n",
    "    \n",
    "    def evaluate_fitness(self):\n",
    "        for i in range(POPULATION_SIZE):\n",
    "            counter = 0\n",
    "            decoded_words = []\n",
    "            for word in self.encoded_text_word:\n",
    "                if word != '':\n",
    "                    decoded_word = \"\"\n",
    "                    for letter in word:\n",
    "                        cur_key = ord(self.population[i].get_key(counter)) - 97\n",
    "                        letter = ord(letter) - 97\n",
    "                        decoded_word += chr(((letter - cur_key) % 26) + 97)\n",
    "                        counter = (counter + 1) % self.key_lenght\n",
    "                    decoded_words.append(decoded_word)\n",
    "            is_in_dict = 0\n",
    "            for w in decoded_words:\n",
    "                if w in self.global_text_dict:\n",
    "                    is_in_dict += 1\n",
    "            self.population[i].update_fitness(is_in_dict / len(decoded_words))\n",
    "            \n",
    "   \n",
    "    def decode(self):\n",
    "        d.initiate_population()\n",
    "        d.evaluate_fitness()\n",
    "        population = sorted(self.population, key=self.get_fitness, reverse=True)\n",
    "        \n",
    "        \n",
    "\n",
    "encodedText = open(\"encoded_text.txt\").read()\n",
    "globalText = open(\"global_text.txt\").read()\n",
    "d = Decoder(globalText, encodedText, 14)\n",
    "\n",
    "\n",
    "\n",
    "\n",
    "decodedText = d.decode()\n",
    "    "
   ]
  },
  {
   "cell_type": "markdown",
   "id": "733e5279",
   "metadata": {},
   "source": [
    "## Phase 3:\n",
    "Fitness defiend in this problem is the accuracy of our prediction for each chromosome. The fitness of a chromosome solution is determined by how close it is to being the actual solution to the puzzle."
   ]
  },
  {
   "cell_type": "markdown",
   "id": "b4c9d408",
   "metadata": {},
   "source": [
    "## Phase 4:\n",
    "### Mutation and Crossover "
   ]
  },
  {
   "cell_type": "markdown",
   "id": "1a4587d8",
   "metadata": {},
   "source": [
    "Mutate a chromosome by picking a row, and then picking two values within that row to swap."
   ]
  },
  {
   "cell_type": "markdown",
   "id": "e1ee658a",
   "metadata": {},
   "source": [
    "The crossover function requires two parents to be selected from the population pool. The Tournament class is used to do this. Pick 2 random chromosomes from the population and get them to compete against each other."
   ]
  },
  {
   "cell_type": "markdown",
   "id": "093a0db0",
   "metadata": {},
   "source": [
    "Crossover relates to the analogy of genes within each parent chromosome mixing together in the hopes of creating a fitter child chromosome. Create two new child chromosomes by crossing over parent genes. "
   ]
  },
  {
   "cell_type": "markdown",
   "id": "bf0a6e46",
   "metadata": {},
   "source": [
    "## Phase 5:\n",
    "Load a file to solve. "
   ]
  },
  {
   "cell_type": "markdown",
   "id": "8e54543a",
   "metadata": {},
   "source": [
    "For each generation, calculated the fitness of each candidate and sorted them. Then traverse all the chromosomes to check for solution. if solution not found, select the fittest chromosomes and preserve them for the next generation(120 elites in new generation). Took first 120 as elites(elites would definately be part of the next generation). For the remaining 80, randomly selected two candidates from the population and performed crossover among them. Mutation is done on each candidate. Create the rest of the candidates and select parents from population via a tournament. Then append elites into the end of the population. These will not have been affected by crossover or mutation. Calculate new adaptive mutation rate. We continue doing this until we get a fitness value of 1. This indicates we have successfully found a solution to the sudoku problem. To avoid biasing chromosomes, we can Re-generate the population if for example 100 generations have passed with the fittest two chromosomes always having the same fitness."
   ]
  },
  {
   "cell_type": "markdown",
   "id": "2fce11fd",
   "metadata": {},
   "source": [
    "## Phase 6: \n",
    "### Questions\n",
    "#### 1.\n",
    "We choose tournament selection because it can be implemented efficiently as no sorting of the population is not required.\n",
    "#### 2.\n",
    "Fitness function should be sufficiently fast to compute and must quantitatively measure how fit a given solution is or how fit individuals can be produced from the given solution. Our fitness function satisfies these criteria and its suitable for this problem.\n",
    "\n",
    "#### 3.\n",
    "**cross over** : This makes it possible that if part of the selected genes are suitable and part is inappropriate, the improper part is likely to be discarded, thus combining the part that we think is appropriate with another part of the chromosome that brings us closer to the answer. We consider 0.85 for the crossover probability and it is constant during the execution of the algorithm.\n",
    "\n",
    "**mutation** : This operation is performed after each crossover, because we may be stuck in a certain state every time after this operation. By slightly changing these chromosomes, we can get out of this state and get closer to the answer. we have chosen a variable mutationRate which is the mutation probabality and its default value is 0.5 to make more change to chromosomes. Whenever we are close to the solution, we decrease it by 0.002 and whenever we are in a local maximum, we increase it by 0.002.\n",
    "#### 4.\n",
    "If this happens to us, it means that we are stuck at a local maximum point and we have to get out of this point. To prevent chromosomes stability, when maximum fitness of our model gets below 90% we increase mutation and crossover probability to cause more changes and if maximum fitness of our model remains the same for a number of generation we increase mutation and crossover probability to cause more changes. Also we can store history of generations and if we are repeating on a fitness for example for 100 times Then i change the probabilty of mutationRate for one generation to get out of this situation. "
   ]
  }
 ],
 "metadata": {
  "kernelspec": {
   "display_name": "Python 3",
   "language": "python",
   "name": "python3"
  },
  "language_info": {
   "codemirror_mode": {
    "name": "ipython",
    "version": 3
   },
   "file_extension": ".py",
   "mimetype": "text/x-python",
   "name": "python",
   "nbconvert_exporter": "python",
   "pygments_lexer": "ipython3",
   "version": "3.8.8"
  }
 },
 "nbformat": 4,
 "nbformat_minor": 5
}
